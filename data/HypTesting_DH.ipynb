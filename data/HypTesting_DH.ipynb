{
 "cells": [
  {
   "cell_type": "code",
   "execution_count": 2,
   "metadata": {},
   "outputs": [],
   "source": [
    "import warnings\n",
    "warnings.filterwarnings('ignore')"
   ]
  },
  {
   "cell_type": "code",
   "execution_count": 3,
   "metadata": {},
   "outputs": [],
   "source": [
    "from matplotlib import pyplot as plt\n",
    "import pandas as pd\n",
    "import numpy as np\n",
    "import scipy.stats as stats"
   ]
  },
  {
   "cell_type": "code",
   "execution_count": 4,
   "metadata": {},
   "outputs": [
    {
     "data": {
      "text/html": [
       "<div>\n",
       "<style scoped>\n",
       "    .dataframe tbody tr th:only-of-type {\n",
       "        vertical-align: middle;\n",
       "    }\n",
       "\n",
       "    .dataframe tbody tr th {\n",
       "        vertical-align: top;\n",
       "    }\n",
       "\n",
       "    .dataframe thead th {\n",
       "        text-align: right;\n",
       "    }\n",
       "</style>\n",
       "<table border=\"1\" class=\"dataframe\">\n",
       "  <thead>\n",
       "    <tr style=\"text-align: right;\">\n",
       "      <th></th>\n",
       "      <th>MonthYear</th>\n",
       "      <th>Year</th>\n",
       "      <th>Sales</th>\n",
       "      <th>Price Per Gallon</th>\n",
       "      <th>Unemployment_Rate</th>\n",
       "      <th>Steel_Price_Index</th>\n",
       "      <th>New_Auto_Price_Index</th>\n",
       "      <th>Used_Auto_Price_Index</th>\n",
       "    </tr>\n",
       "  </thead>\n",
       "  <tbody>\n",
       "    <tr>\n",
       "      <th>0</th>\n",
       "      <td>Jan-05</td>\n",
       "      <td>2005</td>\n",
       "      <td>1,052,224</td>\n",
       "      <td>1.831</td>\n",
       "      <td>5.3</td>\n",
       "      <td>181.2</td>\n",
       "      <td>138.5</td>\n",
       "      <td>138.6</td>\n",
       "    </tr>\n",
       "    <tr>\n",
       "      <th>1</th>\n",
       "      <td>Feb-05</td>\n",
       "      <td>2005</td>\n",
       "      <td>1,244,753</td>\n",
       "      <td>1.910</td>\n",
       "      <td>5.4</td>\n",
       "      <td>179.8</td>\n",
       "      <td>138.6</td>\n",
       "      <td>138.4</td>\n",
       "    </tr>\n",
       "    <tr>\n",
       "      <th>2</th>\n",
       "      <td>Mar-05</td>\n",
       "      <td>2005</td>\n",
       "      <td>1,564,938</td>\n",
       "      <td>2.079</td>\n",
       "      <td>5.2</td>\n",
       "      <td>176.4</td>\n",
       "      <td>138.3</td>\n",
       "      <td>138.3</td>\n",
       "    </tr>\n",
       "    <tr>\n",
       "      <th>3</th>\n",
       "      <td>Apr-05</td>\n",
       "      <td>2005</td>\n",
       "      <td>1,493,837</td>\n",
       "      <td>2.243</td>\n",
       "      <td>5.2</td>\n",
       "      <td>176.9</td>\n",
       "      <td>138.3</td>\n",
       "      <td>138.4</td>\n",
       "    </tr>\n",
       "    <tr>\n",
       "      <th>4</th>\n",
       "      <td>May-05</td>\n",
       "      <td>2005</td>\n",
       "      <td>1,488,171</td>\n",
       "      <td>2.161</td>\n",
       "      <td>5.1</td>\n",
       "      <td>170.7</td>\n",
       "      <td>138.7</td>\n",
       "      <td>138.8</td>\n",
       "    </tr>\n",
       "  </tbody>\n",
       "</table>\n",
       "</div>"
      ],
      "text/plain": [
       "  MonthYear  Year      Sales  Price Per Gallon  Unemployment_Rate  \\\n",
       "0    Jan-05  2005  1,052,224             1.831                5.3   \n",
       "1    Feb-05  2005  1,244,753             1.910                5.4   \n",
       "2    Mar-05  2005  1,564,938             2.079                5.2   \n",
       "3    Apr-05  2005  1,493,837             2.243                5.2   \n",
       "4    May-05  2005  1,488,171             2.161                5.1   \n",
       "\n",
       "   Steel_Price_Index  New_Auto_Price_Index  Used_Auto_Price_Index  \n",
       "0              181.2                 138.5                  138.6  \n",
       "1              179.8                 138.6                  138.4  \n",
       "2              176.4                 138.3                  138.3  \n",
       "3              176.9                 138.3                  138.4  \n",
       "4              170.7                 138.7                  138.8  "
      ]
     },
     "execution_count": 4,
     "metadata": {},
     "output_type": "execute_result"
    }
   ],
   "source": [
    "df = pd.read_csv('final_file.csv')\n",
    "df.head()"
   ]
  },
  {
   "cell_type": "code",
   "execution_count": 5,
   "metadata": {},
   "outputs": [
    {
     "ename": "TypeError",
     "evalue": "'method' object is not subscriptable",
     "output_type": "error",
     "traceback": [
      "\u001b[1;31m---------------------------------------------------------------------------\u001b[0m",
      "\u001b[1;31mTypeError\u001b[0m                                 Traceback (most recent call last)",
      "\u001b[1;32m<ipython-input-5-4726a98c1605>\u001b[0m in \u001b[0;36m<module>\u001b[1;34m\u001b[0m\n\u001b[1;32m----> 1\u001b[1;33m \u001b[0mdf\u001b[0m\u001b[1;33m[\u001b[0m\u001b[1;34m'Sales'\u001b[0m\u001b[1;33m]\u001b[0m \u001b[1;33m=\u001b[0m \u001b[0mdf\u001b[0m\u001b[1;33m[\u001b[0m\u001b[1;34m'Sales'\u001b[0m\u001b[1;33m]\u001b[0m\u001b[1;33m.\u001b[0m\u001b[0mstr\u001b[0m\u001b[1;33m.\u001b[0m\u001b[0mreplace\u001b[0m\u001b[1;33m[\u001b[0m\u001b[1;34mr'\\D'\u001b[0m\u001b[1;33m,\u001b[0m\u001b[1;34m''\u001b[0m\u001b[1;33m]\u001b[0m\u001b[1;33m\u001b[0m\u001b[1;33m\u001b[0m\u001b[0m\n\u001b[0m\u001b[0;32m      2\u001b[0m \u001b[0mdf\u001b[0m\u001b[1;33m[\u001b[0m\u001b[1;34m'Sales'\u001b[0m\u001b[1;33m]\u001b[0m \u001b[1;33m=\u001b[0m \u001b[0mdf\u001b[0m\u001b[1;33m[\u001b[0m\u001b[1;34m'Sales'\u001b[0m\u001b[1;33m]\u001b[0m\u001b[1;33m.\u001b[0m\u001b[0mastype\u001b[0m\u001b[1;33m(\u001b[0m\u001b[0mfloat\u001b[0m\u001b[1;33m)\u001b[0m\u001b[1;33m\u001b[0m\u001b[1;33m\u001b[0m\u001b[0m\n",
      "\u001b[1;31mTypeError\u001b[0m: 'method' object is not subscriptable"
     ]
    }
   ],
   "source": [
    "df['Sales'] = df['Sales'].str.replace[r'\\D','']\n",
    "df['Sales'] = df['Sales'].astype(float)"
   ]
  },
  {
   "cell_type": "code",
   "execution_count": null,
   "metadata": {},
   "outputs": [],
   "source": [
    "pop1 = df[df[\"Sales\"]]\n",
    "pop1.mean()"
   ]
  },
  {
   "cell_type": "code",
   "execution_count": null,
   "metadata": {},
   "outputs": [],
   "source": [
    "pop2 = df[df[\"Price Per Gallon\"] == 6]\n",
    "pop2.mean()"
   ]
  },
  {
   "cell_type": "code",
   "execution_count": null,
   "metadata": {},
   "outputs": [],
   "source": [
    "stats.ttest_ind(pop1, pop2, equal_var=False)\n"
   ]
  },
  {
   "cell_type": "code",
   "execution_count": null,
   "metadata": {},
   "outputs": [],
   "source": []
  },
  {
   "cell_type": "code",
   "execution_count": null,
   "metadata": {},
   "outputs": [],
   "source": []
  },
  {
   "cell_type": "code",
   "execution_count": null,
   "metadata": {},
   "outputs": [],
   "source": [
    "# population1 = df[df[\"location\"] == 1]\n",
    "# population1.vertebrae.mean()\n",
    "\n",
    "\n",
    "# population2 = df[df[\"location\"] == 6]\n",
    "# population2.vertebrae.mean()\n",
    "\n",
    "# stats.ttest_ind(population1.vertebrae, population2.vertebrae, equal_var=False)"
   ]
  },
  {
   "cell_type": "code",
   "execution_count": null,
   "metadata": {},
   "outputs": [],
   "source": []
  },
  {
   "cell_type": "code",
   "execution_count": null,
   "metadata": {},
   "outputs": [],
   "source": []
  },
  {
   "cell_type": "code",
   "execution_count": null,
   "metadata": {},
   "outputs": [],
   "source": []
  },
  {
   "cell_type": "code",
   "execution_count": null,
   "metadata": {},
   "outputs": [],
   "source": []
  }
 ],
 "metadata": {
  "kernelspec": {
   "display_name": "Python [conda env:PythonData] *",
   "language": "python",
   "name": "conda-env-PythonData-py"
  }
 },
 "nbformat": 4,
 "nbformat_minor": 4
}
