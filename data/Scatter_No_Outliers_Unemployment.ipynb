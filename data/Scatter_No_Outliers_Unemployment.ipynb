{
 "cells": [
  {
   "cell_type": "code",
   "execution_count": 1,
   "metadata": {},
   "outputs": [
    {
     "data": {
      "text/html": [
       "<div>\n",
       "<style scoped>\n",
       "    .dataframe tbody tr th:only-of-type {\n",
       "        vertical-align: middle;\n",
       "    }\n",
       "\n",
       "    .dataframe tbody tr th {\n",
       "        vertical-align: top;\n",
       "    }\n",
       "\n",
       "    .dataframe thead th {\n",
       "        text-align: right;\n",
       "    }\n",
       "</style>\n",
       "<table border=\"1\" class=\"dataframe\">\n",
       "  <thead>\n",
       "    <tr style=\"text-align: right;\">\n",
       "      <th></th>\n",
       "      <th>MonthYear</th>\n",
       "      <th>Year</th>\n",
       "      <th>Sales</th>\n",
       "      <th>Price Per Gallon</th>\n",
       "      <th>Unemployment_Rate</th>\n",
       "      <th>Steel_Price_Index</th>\n",
       "      <th>New_Auto_Price_Index</th>\n",
       "      <th>Used_Auto_Price_Index</th>\n",
       "    </tr>\n",
       "  </thead>\n",
       "  <tbody>\n",
       "    <tr>\n",
       "      <th>0</th>\n",
       "      <td>Jan-2005</td>\n",
       "      <td>2005</td>\n",
       "      <td>1052224.0</td>\n",
       "      <td>1.831</td>\n",
       "      <td>5.3</td>\n",
       "      <td>181.2</td>\n",
       "      <td>138.5</td>\n",
       "      <td>138.6</td>\n",
       "    </tr>\n",
       "    <tr>\n",
       "      <th>1</th>\n",
       "      <td>Feb-2005</td>\n",
       "      <td>2005</td>\n",
       "      <td>1244753.0</td>\n",
       "      <td>1.910</td>\n",
       "      <td>5.4</td>\n",
       "      <td>179.8</td>\n",
       "      <td>138.6</td>\n",
       "      <td>138.4</td>\n",
       "    </tr>\n",
       "    <tr>\n",
       "      <th>2</th>\n",
       "      <td>Mar-2005</td>\n",
       "      <td>2005</td>\n",
       "      <td>1564938.0</td>\n",
       "      <td>2.079</td>\n",
       "      <td>5.2</td>\n",
       "      <td>176.4</td>\n",
       "      <td>138.3</td>\n",
       "      <td>138.3</td>\n",
       "    </tr>\n",
       "    <tr>\n",
       "      <th>3</th>\n",
       "      <td>Apr-2005</td>\n",
       "      <td>2005</td>\n",
       "      <td>1493837.0</td>\n",
       "      <td>2.243</td>\n",
       "      <td>5.2</td>\n",
       "      <td>176.9</td>\n",
       "      <td>138.3</td>\n",
       "      <td>138.4</td>\n",
       "    </tr>\n",
       "    <tr>\n",
       "      <th>4</th>\n",
       "      <td>May-2005</td>\n",
       "      <td>2005</td>\n",
       "      <td>1488171.0</td>\n",
       "      <td>2.161</td>\n",
       "      <td>5.1</td>\n",
       "      <td>170.7</td>\n",
       "      <td>138.7</td>\n",
       "      <td>138.8</td>\n",
       "    </tr>\n",
       "  </tbody>\n",
       "</table>\n",
       "</div>"
      ],
      "text/plain": [
       "  MonthYear  Year      Sales  Price Per Gallon  Unemployment_Rate  \\\n",
       "0  Jan-2005  2005  1052224.0             1.831                5.3   \n",
       "1  Feb-2005  2005  1244753.0             1.910                5.4   \n",
       "2  Mar-2005  2005  1564938.0             2.079                5.2   \n",
       "3  Apr-2005  2005  1493837.0             2.243                5.2   \n",
       "4  May-2005  2005  1488171.0             2.161                5.1   \n",
       "\n",
       "   Steel_Price_Index  New_Auto_Price_Index  Used_Auto_Price_Index  \n",
       "0              181.2                 138.5                  138.6  \n",
       "1              179.8                 138.6                  138.4  \n",
       "2              176.4                 138.3                  138.3  \n",
       "3              176.9                 138.3                  138.4  \n",
       "4              170.7                 138.7                  138.8  "
      ]
     },
     "execution_count": 1,
     "metadata": {},
     "output_type": "execute_result"
    }
   ],
   "source": [
    "# Main Code for Data \n",
    "import pandas as pd\n",
    "import os\n",
    "import csv\n",
    "import numpy as np\n",
    "import matplotlib.pyplot as plt\n",
    "from scipy.stats import linregress\n",
    "import scipy.stats as st\n",
    "\n",
    "#Name of CSV\n",
    "data = 'final_unemploy_data.csv'\n",
    "\n",
    "#read CSV\n",
    "scatter_data = pd.read_csv(data)\n",
    "scatter_data.head()"
   ]
  },
  {
   "cell_type": "code",
   "execution_count": 4,
   "metadata": {},
   "outputs": [
    {
     "name": "stdout",
     "output_type": "stream",
     "text": [
      "The r-squared is: 0.4165093433143359\n",
      "The p-value is: 2.3334146393327313e-24\n"
     ]
    },
    {
     "data": {
      "image/png": "[encoded data removed]",
      "text/plain": [
       "<Figure size 432x288 with 1 Axes>"
      ]
     },
     "metadata": {
      "needs_background": "light"
     },
     "output_type": "display_data"
    }
   ],
   "source": [
    "#linear regression graph for gas price vs auto sales\n",
    "x_values = scatter_data[\"Unemployment_Rate\"]\n",
    "y_values = scatter_data[\"Sales\"]\n",
    "(slope, intercept, rvalue, pvalue, stderr) = linregress(x_values, y_values)\n",
    "regress_values = x_values * slope + intercept\n",
    "line_eq = \"y = \" + str(round(slope,2)) + \"x + \" + str(round(intercept,2))\n",
    "#print(line_eq)\n",
    "plt.scatter(x_values,y_values)\n",
    "plt.plot(x_values,regress_values,\"r-\")\n",
    "plt.annotate(line_eq,(5.5,1700000),fontsize=15,color=\"red\")\n",
    "plt.xlabel('Unemployment Rate')\n",
    "plt.ylabel('Auto Sales')\n",
    "plt.title(\"Auto Sales vs Unemployment Rate\")\n",
    "print(f\"The r-squared is: {rvalue**2}\")\n",
    "print(f\"The p-value is: {pvalue}\")\n",
    "\n",
    "#Saves to file \n",
    "plt.savefig(\"Images/LinRegression Unemployment Rate v Auto Sales without Outliers.png\")\n",
    "plt.show()"
   ]
  },
  {
   "cell_type": "code",
   "execution_count": null,
   "metadata": {},
   "outputs": [],
   "source": []
  }
 ],
 "metadata": {
  "kernelspec": {
   "display_name": "Python [conda env:PythonData] *",
   "language": "python",
   "name": "conda-env-PythonData-py"
  },
  "language_info": {
   "codemirror_mode": {
    "name": "ipython",
    "version": 3
   },
   "file_extension": ".py",
   "mimetype": "text/x-python",
   "name": "python",
   "nbconvert_exporter": "python",
   "pygments_lexer": "ipython3",
   "version": "3.6.10"
  }
 },
 "nbformat": 4,
 "nbformat_minor": 4
}
