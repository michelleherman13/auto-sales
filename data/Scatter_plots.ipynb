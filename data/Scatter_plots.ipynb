{
 "cells": [
  {
   "cell_type": "code",
   "execution_count": 1,
   "metadata": {},
   "outputs": [
    {
     "data": {
      "text/html": [
       "<div>\n",
       "<style scoped>\n",
       "    .dataframe tbody tr th:only-of-type {\n",
       "        vertical-align: middle;\n",
       "    }\n",
       "\n",
       "    .dataframe tbody tr th {\n",
       "        vertical-align: top;\n",
       "    }\n",
       "\n",
       "    .dataframe thead th {\n",
       "        text-align: right;\n",
       "    }\n",
       "</style>\n",
       "<table border=\"1\" class=\"dataframe\">\n",
       "  <thead>\n",
       "    <tr style=\"text-align: right;\">\n",
       "      <th></th>\n",
       "      <th>MonthYear</th>\n",
       "      <th>Year</th>\n",
       "      <th>Sales</th>\n",
       "      <th>Price Per Gallon</th>\n",
       "      <th>Unemployment_Rate</th>\n",
       "      <th>Steel_Price_Index</th>\n",
       "      <th>New_Auto_Price_Index</th>\n",
       "      <th>Used_Auto_Price_Index</th>\n",
       "    </tr>\n",
       "  </thead>\n",
       "  <tbody>\n",
       "    <tr>\n",
       "      <th>0</th>\n",
       "      <td>Jan-2005</td>\n",
       "      <td>2005</td>\n",
       "      <td>1052224.0</td>\n",
       "      <td>1.831</td>\n",
       "      <td>5.3</td>\n",
       "      <td>181.2</td>\n",
       "      <td>138.5</td>\n",
       "      <td>138.6</td>\n",
       "    </tr>\n",
       "    <tr>\n",
       "      <th>1</th>\n",
       "      <td>Feb-2005</td>\n",
       "      <td>2005</td>\n",
       "      <td>1244753.0</td>\n",
       "      <td>1.910</td>\n",
       "      <td>5.4</td>\n",
       "      <td>179.8</td>\n",
       "      <td>138.6</td>\n",
       "      <td>138.4</td>\n",
       "    </tr>\n",
       "    <tr>\n",
       "      <th>2</th>\n",
       "      <td>Mar-2005</td>\n",
       "      <td>2005</td>\n",
       "      <td>1564938.0</td>\n",
       "      <td>2.079</td>\n",
       "      <td>5.2</td>\n",
       "      <td>176.4</td>\n",
       "      <td>138.3</td>\n",
       "      <td>138.3</td>\n",
       "    </tr>\n",
       "    <tr>\n",
       "      <th>3</th>\n",
       "      <td>Apr-2005</td>\n",
       "      <td>2005</td>\n",
       "      <td>1493837.0</td>\n",
       "      <td>2.243</td>\n",
       "      <td>5.2</td>\n",
       "      <td>176.9</td>\n",
       "      <td>138.3</td>\n",
       "      <td>138.4</td>\n",
       "    </tr>\n",
       "    <tr>\n",
       "      <th>4</th>\n",
       "      <td>May-2005</td>\n",
       "      <td>2005</td>\n",
       "      <td>1488171.0</td>\n",
       "      <td>2.161</td>\n",
       "      <td>5.1</td>\n",
       "      <td>170.7</td>\n",
       "      <td>138.7</td>\n",
       "      <td>138.8</td>\n",
       "    </tr>\n",
       "  </tbody>\n",
       "</table>\n",
       "</div>"
      ],
      "text/plain": [
       "  MonthYear  Year      Sales  Price Per Gallon  Unemployment_Rate  \\\n",
       "0  Jan-2005  2005  1052224.0             1.831                5.3   \n",
       "1  Feb-2005  2005  1244753.0             1.910                5.4   \n",
       "2  Mar-2005  2005  1564938.0             2.079                5.2   \n",
       "3  Apr-2005  2005  1493837.0             2.243                5.2   \n",
       "4  May-2005  2005  1488171.0             2.161                5.1   \n",
       "\n",
       "   Steel_Price_Index  New_Auto_Price_Index  Used_Auto_Price_Index  \n",
       "0              181.2                 138.5                  138.6  \n",
       "1              179.8                 138.6                  138.4  \n",
       "2              176.4                 138.3                  138.3  \n",
       "3              176.9                 138.3                  138.4  \n",
       "4              170.7                 138.7                  138.8  "
      ]
     },
     "execution_count": 1,
     "metadata": {},
     "output_type": "execute_result"
    }
   ],
   "source": [
    "# Main Code for Data \n",
    "import pandas as pd\n",
    "import os\n",
    "import csv\n",
    "import numpy as np\n",
    "import matplotlib.pyplot as plt\n",
    "import scipy.stats as st\n",
    "\n",
    "#Name of CSV\n",
    "data = 'final_data.csv'\n",
    "\n",
    "#read CSV\n",
    "scatter_data = pd.read_csv(data)\n",
    "scatter_data.head()"
   ]
  },
  {
   "cell_type": "code",
   "execution_count": 2,
   "metadata": {},
   "outputs": [
    {
     "data": {
      "text/html": [
       "<div>\n",
       "<style scoped>\n",
       "    .dataframe tbody tr th:only-of-type {\n",
       "        vertical-align: middle;\n",
       "    }\n",
       "\n",
       "    .dataframe tbody tr th {\n",
       "        vertical-align: top;\n",
       "    }\n",
       "\n",
       "    .dataframe thead th {\n",
       "        text-align: right;\n",
       "    }\n",
       "</style>\n",
       "<table border=\"1\" class=\"dataframe\">\n",
       "  <thead>\n",
       "    <tr style=\"text-align: right;\">\n",
       "      <th></th>\n",
       "      <th>MonthYear</th>\n",
       "      <th>Year</th>\n",
       "      <th>Sales</th>\n",
       "      <th>Price Per Gallon</th>\n",
       "      <th>Unemployment_Rate</th>\n",
       "      <th>Steel_Price_Index</th>\n",
       "      <th>New_Auto_Price_Index</th>\n",
       "      <th>Used_Auto_Price_Index</th>\n",
       "    </tr>\n",
       "  </thead>\n",
       "  <tbody>\n",
       "    <tr>\n",
       "      <th>144</th>\n",
       "      <td>Jan-2017</td>\n",
       "      <td>2017</td>\n",
       "      <td>1140841.0</td>\n",
       "      <td>2.349</td>\n",
       "      <td>4.7</td>\n",
       "      <td>204.8</td>\n",
       "      <td>148.092</td>\n",
       "      <td>139.306</td>\n",
       "    </tr>\n",
       "    <tr>\n",
       "      <th>145</th>\n",
       "      <td>Feb-2017</td>\n",
       "      <td>2017</td>\n",
       "      <td>1331716.0</td>\n",
       "      <td>2.304</td>\n",
       "      <td>4.6</td>\n",
       "      <td>207.3</td>\n",
       "      <td>148.083</td>\n",
       "      <td>137.935</td>\n",
       "    </tr>\n",
       "    <tr>\n",
       "      <th>146</th>\n",
       "      <td>Mar-2017</td>\n",
       "      <td>2017</td>\n",
       "      <td>1553142.0</td>\n",
       "      <td>2.325</td>\n",
       "      <td>4.4</td>\n",
       "      <td>213.3</td>\n",
       "      <td>147.766</td>\n",
       "      <td>136.951</td>\n",
       "    </tr>\n",
       "    <tr>\n",
       "      <th>147</th>\n",
       "      <td>Apr-2017</td>\n",
       "      <td>2017</td>\n",
       "      <td>1424793.0</td>\n",
       "      <td>2.417</td>\n",
       "      <td>4.5</td>\n",
       "      <td>212.0</td>\n",
       "      <td>147.807</td>\n",
       "      <td>138.750</td>\n",
       "    </tr>\n",
       "    <tr>\n",
       "      <th>148</th>\n",
       "      <td>May-2017</td>\n",
       "      <td>2017</td>\n",
       "      <td>1517197.0</td>\n",
       "      <td>2.391</td>\n",
       "      <td>4.4</td>\n",
       "      <td>213.7</td>\n",
       "      <td>147.571</td>\n",
       "      <td>140.076</td>\n",
       "    </tr>\n",
       "  </tbody>\n",
       "</table>\n",
       "</div>"
      ],
      "text/plain": [
       "    MonthYear  Year      Sales  Price Per Gallon  Unemployment_Rate  \\\n",
       "144  Jan-2017  2017  1140841.0             2.349                4.7   \n",
       "145  Feb-2017  2017  1331716.0             2.304                4.6   \n",
       "146  Mar-2017  2017  1553142.0             2.325                4.4   \n",
       "147  Apr-2017  2017  1424793.0             2.417                4.5   \n",
       "148  May-2017  2017  1517197.0             2.391                4.4   \n",
       "\n",
       "     Steel_Price_Index  New_Auto_Price_Index  Used_Auto_Price_Index  \n",
       "144              204.8               148.092                139.306  \n",
       "145              207.3               148.083                137.935  \n",
       "146              213.3               147.766                136.951  \n",
       "147              212.0               147.807                138.750  \n",
       "148              213.7               147.571                140.076  "
      ]
     },
     "execution_count": 2,
     "metadata": {},
     "output_type": "execute_result"
    }
   ],
   "source": [
    "# Get last 5 years of data only\n",
    "five_years=scatter_data[scatter_data[\"Year\"]>2016]\n",
    "five_years.head()"
   ]
  },
  {
   "cell_type": "code",
   "execution_count": 3,
   "metadata": {},
   "outputs": [
    {
     "data": {
      "text/html": [
       "<div>\n",
       "<style scoped>\n",
       "    .dataframe tbody tr th:only-of-type {\n",
       "        vertical-align: middle;\n",
       "    }\n",
       "\n",
       "    .dataframe tbody tr th {\n",
       "        vertical-align: top;\n",
       "    }\n",
       "\n",
       "    .dataframe thead th {\n",
       "        text-align: right;\n",
       "    }\n",
       "</style>\n",
       "<table border=\"1\" class=\"dataframe\">\n",
       "  <thead>\n",
       "    <tr style=\"text-align: right;\">\n",
       "      <th></th>\n",
       "      <th>Average Gas Price</th>\n",
       "      <th>Average Auto Sales</th>\n",
       "      <th>Average Unemployment Rate</th>\n",
       "      <th>Average Steel Price Index</th>\n",
       "    </tr>\n",
       "    <tr>\n",
       "      <th>MonthYear</th>\n",
       "      <th></th>\n",
       "      <th></th>\n",
       "      <th></th>\n",
       "      <th></th>\n",
       "    </tr>\n",
       "  </thead>\n",
       "  <tbody>\n",
       "    <tr>\n",
       "      <th>Apr-2017</th>\n",
       "      <td>2.417</td>\n",
       "      <td>1424793.0</td>\n",
       "      <td>4.5</td>\n",
       "      <td>212.0</td>\n",
       "    </tr>\n",
       "    <tr>\n",
       "      <th>Apr-2018</th>\n",
       "      <td>2.757</td>\n",
       "      <td>1364619.0</td>\n",
       "      <td>4.0</td>\n",
       "      <td>234.1</td>\n",
       "    </tr>\n",
       "    <tr>\n",
       "      <th>Apr-2019</th>\n",
       "      <td>2.798</td>\n",
       "      <td>1355548.0</td>\n",
       "      <td>3.7</td>\n",
       "      <td>234.0</td>\n",
       "    </tr>\n",
       "    <tr>\n",
       "      <th>Apr-2020</th>\n",
       "      <td>1.841</td>\n",
       "      <td>563122.0</td>\n",
       "      <td>14.8</td>\n",
       "      <td>204.7</td>\n",
       "    </tr>\n",
       "    <tr>\n",
       "      <th>Apr-2021</th>\n",
       "      <td>2.858</td>\n",
       "      <td>1493938.0</td>\n",
       "      <td>6.1</td>\n",
       "      <td>322.8</td>\n",
       "    </tr>\n",
       "  </tbody>\n",
       "</table>\n",
       "</div>"
      ],
      "text/plain": [
       "           Average Gas Price  Average Auto Sales  Average Unemployment Rate  \\\n",
       "MonthYear                                                                     \n",
       "Apr-2017               2.417           1424793.0                        4.5   \n",
       "Apr-2018               2.757           1364619.0                        4.0   \n",
       "Apr-2019               2.798           1355548.0                        3.7   \n",
       "Apr-2020               1.841            563122.0                       14.8   \n",
       "Apr-2021               2.858           1493938.0                        6.1   \n",
       "\n",
       "           Average Steel Price Index  \n",
       "MonthYear                             \n",
       "Apr-2017                       212.0  \n",
       "Apr-2018                       234.1  \n",
       "Apr-2019                       234.0  \n",
       "Apr-2020                       204.7  \n",
       "Apr-2021                       322.8  "
      ]
     },
     "execution_count": 3,
     "metadata": {},
     "output_type": "execute_result"
    }
   ],
   "source": [
    "#Calculation of averages for gas price averages, auto sales averages, unemployment, & steel\n",
    "mean_gas = five_years.groupby('MonthYear').mean()['Price Per Gallon']\n",
    "mean_sales = five_years.groupby('MonthYear').mean()['Sales']\n",
    "mean_ue = five_years.groupby('MonthYear').mean()['Unemployment_Rate']\n",
    "mean_steel=five_years.groupby('MonthYear').mean()['Steel_Price_Index']\n",
    "\n",
    "summary_mean = pd.DataFrame({\"Average Gas Price\":mean_gas,\n",
    "                              \"Average Auto Sales\":mean_sales,\n",
    "                             \"Average Unemployment Rate\":mean_ue,\n",
    "                             \"Average Steel Price Index\": mean_steel})\n",
    "summary_mean.head()"
   ]
  },
  {
   "cell_type": "code",
   "execution_count": 4,
   "metadata": {},
   "outputs": [
    {
     "data": {
      "image/png": "[encoded data removed]",
      "text/plain": [
       "<Figure size 432x288 with 1 Axes>"
      ]
     },
     "metadata": {
      "needs_background": "light"
     },
     "output_type": "display_data"
    }
   ],
   "source": [
    "# Generate a scatter plot of average gas price vs. auto sales\n",
    "plt.scatter(mean_gas, mean_sales, color=\"lightskyblue\", edgecolor=\"grey\")\n",
    "plt.xlabel(\"Average Gas Price\")\n",
    "plt.ylabel(\"Average Auto Sales (units sold)\")\n",
    "plt.title(\" 2017- 2021 Gas Prices vs Auto Sales\")\n",
    "plt.grid(linestyle=\"-\", linewidth=1, alpha=0.25)\n",
    "\n",
    "#Saves to file \n",
    "plt.savefig(\"Images/Gas vs Auto Sales.png\")\n",
    "plt.show()"
   ]
  },
  {
   "cell_type": "code",
   "execution_count": 5,
   "metadata": {},
   "outputs": [
    {
     "name": "stdout",
     "output_type": "stream",
     "text": [
      "The correlation coefficient between gas price and auto sales is 0.51\n"
     ]
    }
   ],
   "source": [
    "print(f\"The correlation coefficient between gas price and auto sales is {round(st.pearsonr(mean_gas,mean_sales)[0],2)}\")"
   ]
  },
  {
   "cell_type": "code",
   "execution_count": 6,
   "metadata": {},
   "outputs": [
    {
     "data": {
      "image/png": "[encoded data removed]",
      "text/plain": [
       "<Figure size 432x288 with 1 Axes>"
      ]
     },
     "metadata": {
      "needs_background": "light"
     },
     "output_type": "display_data"
    }
   ],
   "source": [
    "# Generate a scatter plot of average unemployment rate vs. auto sales\n",
    "plt.scatter(mean_ue, mean_sales, color=\"limegreen\", edgecolor=\"grey\")\n",
    "plt.xlabel(\"Average Unemployment Rate\")\n",
    "plt.ylabel(\"Average Auto Sales (units sold)\")\n",
    "plt.title(\"2017-2021 Unemployment vs Auto Sales\")\n",
    "plt.grid(linestyle=\"-\", linewidth=1, alpha=0.25)\n",
    "\n",
    "#Saves to file \n",
    "plt.savefig(\"Images/Unemployment vs Auto Sales.png\")\n",
    "plt.show()"
   ]
  },
  {
   "cell_type": "code",
   "execution_count": 7,
   "metadata": {},
   "outputs": [
    {
     "name": "stdout",
     "output_type": "stream",
     "text": [
      "The correlation coefficient between unemployment rate and auto sales is -0.53\n"
     ]
    }
   ],
   "source": [
    "print(f\"The correlation coefficient between unemployment rate and auto sales is {round(st.pearsonr(mean_ue,mean_sales)[0],2)}\")"
   ]
  },
  {
   "cell_type": "code",
   "execution_count": 8,
   "metadata": {},
   "outputs": [
    {
     "data": {
      "image/png": "[encoded data removed]",
      "text/plain": [
       "<Figure size 432x288 with 1 Axes>"
      ]
     },
     "metadata": {
      "needs_background": "light"
     },
     "output_type": "display_data"
    }
   ],
   "source": [
    "# Generate a scatter plot of auto sales vs. steel price index\n",
    "plt.scatter(mean_steel, mean_sales, color=\"grey\", edgecolor=\"black\")\n",
    "plt.xlabel(\"Average Steel Price Index\")\n",
    "plt.ylabel(\"Average Auto Sales (units sold)\")\n",
    "plt.title(\"2017-2021 Auto Sales vs Steel Price Index\")\n",
    "plt.grid(linestyle=\"-\", linewidth=1, alpha=0.25)\n",
    "\n",
    "#Saves to file \n",
    "plt.savefig(\"Images/Auto Sales vs Steel Price Index.png\")\n",
    "plt.show()"
   ]
  },
  {
   "cell_type": "code",
   "execution_count": 9,
   "metadata": {},
   "outputs": [
    {
     "name": "stdout",
     "output_type": "stream",
     "text": [
      "The correlation coefficient between auto sales and steel price index is 0.21\n"
     ]
    }
   ],
   "source": [
    "print(f\"The correlation coefficient between auto sales and steel price index is {round(st.pearsonr(mean_steel,mean_sales)[0],2)}\")"
   ]
  }
 ],
 "metadata": {
  "kernelspec": {
   "display_name": "Python [conda env:PythonData] *",
   "language": "python",
   "name": "conda-env-PythonData-py"
  },
  "language_info": {
   "codemirror_mode": {
    "name": "ipython",
    "version": 3
   },
   "file_extension": ".py",
   "mimetype": "text/x-python",
   "name": "python",
   "nbconvert_exporter": "python",
   "pygments_lexer": "ipython3",
   "version": "3.6.10"
  }
 },
 "nbformat": 4,
 "nbformat_minor": 2
}
