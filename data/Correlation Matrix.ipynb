{
 "cells": [
  {
   "cell_type": "code",
   "execution_count": 1,
   "metadata": {},
   "outputs": [],
   "source": [
    "# Dependencies\n",
    "import matplotlib.pyplot as plt\n",
    "import numpy as np\n",
    "import pandas as pd\n",
    "import seaborn as sn"
   ]
  },
  {
   "cell_type": "code",
   "execution_count": 2,
   "metadata": {},
   "outputs": [],
   "source": [
    "# Read CSV\n",
    "data_df = pd.read_csv(\"final_data.csv\")"
   ]
  },
  {
   "cell_type": "code",
   "execution_count": 3,
   "metadata": {},
   "outputs": [
    {
     "data": {
      "text/html": [
       "<div>\n",
       "<style scoped>\n",
       "    .dataframe tbody tr th:only-of-type {\n",
       "        vertical-align: middle;\n",
       "    }\n",
       "\n",
       "    .dataframe tbody tr th {\n",
       "        vertical-align: top;\n",
       "    }\n",
       "\n",
       "    .dataframe thead th {\n",
       "        text-align: right;\n",
       "    }\n",
       "</style>\n",
       "<table border=\"1\" class=\"dataframe\">\n",
       "  <thead>\n",
       "    <tr style=\"text-align: right;\">\n",
       "      <th></th>\n",
       "      <th>MonthYear</th>\n",
       "      <th>Year</th>\n",
       "      <th>Sales</th>\n",
       "      <th>Price Per Gallon</th>\n",
       "      <th>Unemployment_Rate</th>\n",
       "      <th>Steel_Price_Index</th>\n",
       "      <th>New_Auto_Price_Index</th>\n",
       "      <th>Used_Auto_Price_Index</th>\n",
       "    </tr>\n",
       "  </thead>\n",
       "  <tbody>\n",
       "    <tr>\n",
       "      <th>0</th>\n",
       "      <td>Jan-2005</td>\n",
       "      <td>2005</td>\n",
       "      <td>1052224.0</td>\n",
       "      <td>1.831</td>\n",
       "      <td>5.3</td>\n",
       "      <td>181.2</td>\n",
       "      <td>138.500</td>\n",
       "      <td>138.600</td>\n",
       "    </tr>\n",
       "    <tr>\n",
       "      <th>1</th>\n",
       "      <td>Feb-2005</td>\n",
       "      <td>2005</td>\n",
       "      <td>1244753.0</td>\n",
       "      <td>1.910</td>\n",
       "      <td>5.4</td>\n",
       "      <td>179.8</td>\n",
       "      <td>138.600</td>\n",
       "      <td>138.400</td>\n",
       "    </tr>\n",
       "    <tr>\n",
       "      <th>2</th>\n",
       "      <td>Mar-2005</td>\n",
       "      <td>2005</td>\n",
       "      <td>1564938.0</td>\n",
       "      <td>2.079</td>\n",
       "      <td>5.2</td>\n",
       "      <td>176.4</td>\n",
       "      <td>138.300</td>\n",
       "      <td>138.300</td>\n",
       "    </tr>\n",
       "    <tr>\n",
       "      <th>3</th>\n",
       "      <td>Apr-2005</td>\n",
       "      <td>2005</td>\n",
       "      <td>1493837.0</td>\n",
       "      <td>2.243</td>\n",
       "      <td>5.2</td>\n",
       "      <td>176.9</td>\n",
       "      <td>138.300</td>\n",
       "      <td>138.400</td>\n",
       "    </tr>\n",
       "    <tr>\n",
       "      <th>4</th>\n",
       "      <td>May-2005</td>\n",
       "      <td>2005</td>\n",
       "      <td>1488171.0</td>\n",
       "      <td>2.161</td>\n",
       "      <td>5.1</td>\n",
       "      <td>170.7</td>\n",
       "      <td>138.700</td>\n",
       "      <td>138.800</td>\n",
       "    </tr>\n",
       "    <tr>\n",
       "      <th>...</th>\n",
       "      <td>...</td>\n",
       "      <td>...</td>\n",
       "      <td>...</td>\n",
       "      <td>...</td>\n",
       "      <td>...</td>\n",
       "      <td>...</td>\n",
       "      <td>...</td>\n",
       "      <td>...</td>\n",
       "    </tr>\n",
       "    <tr>\n",
       "      <th>193</th>\n",
       "      <td>Feb-2021</td>\n",
       "      <td>2021</td>\n",
       "      <td>1256529.0</td>\n",
       "      <td>2.501</td>\n",
       "      <td>6.2</td>\n",
       "      <td>260.5</td>\n",
       "      <td>148.587</td>\n",
       "      <td>150.370</td>\n",
       "    </tr>\n",
       "    <tr>\n",
       "      <th>194</th>\n",
       "      <td>Mar-2021</td>\n",
       "      <td>2021</td>\n",
       "      <td>1536038.0</td>\n",
       "      <td>2.810</td>\n",
       "      <td>6.0</td>\n",
       "      <td>289.6</td>\n",
       "      <td>148.550</td>\n",
       "      <td>151.197</td>\n",
       "    </tr>\n",
       "    <tr>\n",
       "      <th>195</th>\n",
       "      <td>Apr-2021</td>\n",
       "      <td>2021</td>\n",
       "      <td>1493938.0</td>\n",
       "      <td>2.858</td>\n",
       "      <td>6.1</td>\n",
       "      <td>322.8</td>\n",
       "      <td>149.267</td>\n",
       "      <td>166.374</td>\n",
       "    </tr>\n",
       "    <tr>\n",
       "      <th>196</th>\n",
       "      <td>May-2021</td>\n",
       "      <td>2021</td>\n",
       "      <td>1502642.0</td>\n",
       "      <td>2.985</td>\n",
       "      <td>5.8</td>\n",
       "      <td>331.3</td>\n",
       "      <td>151.693</td>\n",
       "      <td>178.505</td>\n",
       "    </tr>\n",
       "    <tr>\n",
       "      <th>197</th>\n",
       "      <td>Jun-2021</td>\n",
       "      <td>2021</td>\n",
       "      <td>1352285.0</td>\n",
       "      <td>3.064</td>\n",
       "      <td>5.9</td>\n",
       "      <td>352.5</td>\n",
       "      <td>154.680</td>\n",
       "      <td>197.227</td>\n",
       "    </tr>\n",
       "  </tbody>\n",
       "</table>\n",
       "<p>198 rows × 8 columns</p>\n",
       "</div>"
      ],
      "text/plain": [
       "    MonthYear  Year      Sales  Price Per Gallon  Unemployment_Rate  \\\n",
       "0    Jan-2005  2005  1052224.0             1.831                5.3   \n",
       "1    Feb-2005  2005  1244753.0             1.910                5.4   \n",
       "2    Mar-2005  2005  1564938.0             2.079                5.2   \n",
       "3    Apr-2005  2005  1493837.0             2.243                5.2   \n",
       "4    May-2005  2005  1488171.0             2.161                5.1   \n",
       "..        ...   ...        ...               ...                ...   \n",
       "193  Feb-2021  2021  1256529.0             2.501                6.2   \n",
       "194  Mar-2021  2021  1536038.0             2.810                6.0   \n",
       "195  Apr-2021  2021  1493938.0             2.858                6.1   \n",
       "196  May-2021  2021  1502642.0             2.985                5.8   \n",
       "197  Jun-2021  2021  1352285.0             3.064                5.9   \n",
       "\n",
       "     Steel_Price_Index  New_Auto_Price_Index  Used_Auto_Price_Index  \n",
       "0                181.2               138.500                138.600  \n",
       "1                179.8               138.600                138.400  \n",
       "2                176.4               138.300                138.300  \n",
       "3                176.9               138.300                138.400  \n",
       "4                170.7               138.700                138.800  \n",
       "..                 ...                   ...                    ...  \n",
       "193              260.5               148.587                150.370  \n",
       "194              289.6               148.550                151.197  \n",
       "195              322.8               149.267                166.374  \n",
       "196              331.3               151.693                178.505  \n",
       "197              352.5               154.680                197.227  \n",
       "\n",
       "[198 rows x 8 columns]"
      ]
     },
     "execution_count": 3,
     "metadata": {},
     "output_type": "execute_result"
    }
   ],
   "source": [
    "data_df"
   ]
  },
  {
   "cell_type": "code",
   "execution_count": 11,
   "metadata": {},
   "outputs": [],
   "source": [
    "correlations_df=data_df.corr()"
   ]
  },
  {
   "cell_type": "code",
   "execution_count": 13,
   "metadata": {},
   "outputs": [],
   "source": [
    "correlations_df=correlations_df[[\"Price Per Gallon\", \"Unemployment_Rate\", \"Steel_Price_Index\", \"New_Auto_Price_Index\", \"Used_Auto_Price_Index\"]]"
   ]
  },
  {
   "cell_type": "code",
   "execution_count": 18,
   "metadata": {},
   "outputs": [],
   "source": [
    "corrMatrix=correlations_df"
   ]
  },
  {
   "cell_type": "code",
   "execution_count": 19,
   "metadata": {},
   "outputs": [
    {
     "data": {
      "image/png": "[encoded data removed]",
      "text/plain": [
       "<Figure size 432x288 with 2 Axes>"
      ]
     },
     "metadata": {
      "needs_background": "light"
     },
     "output_type": "display_data"
    }
   ],
   "source": [
    "sn.heatmap(corrMatrix, annot=True)\n",
    "plt.savefig('Images/Correlation Matrix.png', dpi=100)\n",
    "plt.show()"
   ]
  },
  {
   "cell_type": "code",
   "execution_count": null,
   "metadata": {},
   "outputs": [],
   "source": []
  },
  {
   "cell_type": "code",
   "execution_count": null,
   "metadata": {},
   "outputs": [],
   "source": []
  }
 ],
 "metadata": {
  "kernelspec": {
   "display_name": "Python [conda env:PythonData] *",
   "language": "python",
   "name": "conda-env-PythonData-py"
  },
  "language_info": {
   "codemirror_mode": {
    "name": "ipython",
    "version": 3
   },
   "file_extension": ".py",
   "mimetype": "text/x-python",
   "name": "python",
   "nbconvert_exporter": "python",
   "pygments_lexer": "ipython3",
   "version": "3.6.10"
  }
 },
 "nbformat": 4,
 "nbformat_minor": 4
}
